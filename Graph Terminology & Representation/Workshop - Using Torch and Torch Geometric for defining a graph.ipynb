{
 "cells": [
  {
   "cell_type": "code",
   "execution_count": 1,
   "id": "13cc6f76-2ac6-452c-9d8b-34f0da79d211",
   "metadata": {},
   "outputs": [],
   "source": [
    "                                          \n",
    "#####  #   #  #####   ###   #####  #####                ##     #####  ####   #####  #####  #####  #####  #####   ### \n",
    "  #    ## ##  ##  #  #   #  ##  #    #                  ##       #    ##  #  ##  #  #   #  ##  #    #    ##     #    \n",
    "  #    # # #  #####  #   #  #####    #                  ##       #    ####   #####  #####  #####    #    ####    ### \n",
    "  #    #   #  ##     #   #  ## #     #                  ##       #    ##  #  ## #   #   #  ## #     #    ##         #\n",
    "#####  #   #  ##      ###   ##  #    #                  #####  #####  ####   ##  #  #   #  ##  #  #####  #####   ### \n",
    "\n",
    "#####################################################################################################################      \n",
    "import torch\n",
    "import torch_geometric\n",
    "from torch_geometric.data import Data\n",
    "import networkx as nx"
   ]
  },
  {
   "cell_type": "code",
   "execution_count": 2,
   "id": "1af773bd-062f-4eaa-bf8a-310942bc0b11",
   "metadata": {},
   "outputs": [],
   "source": [
    "####   #####  #####  #####  #   #  #####          #####           ####  #####  #####  #####  ##  ##\n",
    "##  #  ##     ##       #    ##  #  ##             #   #          #      ##  #  #   #  ##  #  ##  ##\n",
    "##  #  ####   ####     #    # # #  ####           #####          ####   #####  #####  #####  ######\n",
    "##  #  ##     ##       #    #  ##  ##             #   #          #   #  ## #   #   #  ##     ##  ##\n",
    "####   #####  ##     #####  #   #  #####          #   #           ###   ##  #  #   #  ##     ##  ##\n",
    "\n",
    "####################################################################################################\n",
    "#a graph with4 nodes\n",
    "edge_list=torch.tensor([\n",
    "                        [0,0,0,1,2,2,3,3], #Source Nodes\n",
    "                        [1,2,3,0,0,3,2,0] #Target Nodes\n",
    "                            ],dtype=torch.long)  #This is an undirected Graph\n",
    "\n",
    "# 6 Features for each node 4x6 (4 Nodes *  6 Features for each node): Nodes={0,1,2,3}\n",
    "\n",
    "node_features=torch.tensor([\n",
    "                            [-7,  8, -1, -5,  9,  3], #Features of Node \"0\"\n",
    "                            [-2, -7,  5,  8,  2,  4], #Features of Node \"1\"\n",
    "                            [ 8,  0, -4,-10,  5,  0], #Features of Node \"2\"\n",
    "                            [ 3, -8, -9, -6,  8,  1], #Features of Node \"3\"\n",
    "                                ],dtype=torch.long)\n",
    "\n",
    "# 1 Weight for each edge\n",
    "\n",
    "edge_weight=torch.tensor([\n",
    "                          [35.], # Weight for nodes (0,1)\n",
    "                          [48.], # Weight for nodes (0,2)\n",
    "                          [10.], # Weight for nodes (0,3)\n",
    "                          [70.], # Weight for nodes (1,0)\n",
    "                          [5. ], # Weight for nodes (2,0)\n",
    "                          [15.], # Weight for nodes (2,3)\n",
    "                          [12.], # Weight for nodes (3,2)\n",
    "                          [8. ], # Weight for nodes (3,0)\n",
    "                            ],dtype=torch.float16)"
   ]
  },
  {
   "cell_type": "code",
   "execution_count": 3,
   "id": "fba0e826-d85a-487d-958e-637434b26514",
   "metadata": {},
   "outputs": [],
   "source": [
    "#   #  #####  ##  #  #####         ####  #####  #####  #####  ##  ##\n",
    "## ##  #   #  ## #   ##           #      ##  #  #   #  ##  #  ##  ##\n",
    "# # #  #####  ##     ####         ####   #####  #####  #####  ######\n",
    "#   #  #   #  ## #   ##           #   #  ## #   #   #  ##     ##  ##\n",
    "#   #  #   #  ##  #  #####         ###   ##  #  #   #  ##     ##  ##\n",
    "\n",
    "####################################################################\n",
    "\n",
    "# Make a Data Object to store Graph information\n",
    "data=Data(x=node_features,edge_index=edge_list,edge_attr=edge_weight)"
   ]
  },
  {
   "cell_type": "code",
   "execution_count": 4,
   "id": "1908740f-0d72-402b-a22b-48b4b0517920",
   "metadata": {},
   "outputs": [
    {
     "name": "stdout",
     "output_type": "stream",
     "text": [
      "Number of nodes:\t\t 4\n",
      "Number of edges:\t\t 8\n",
      "Number of features per node:\t 6\n",
      "Number of weights per edge:\t 1\n"
     ]
    }
   ],
   "source": [
    " ####  #####  #####  #####  ##  ##          #####  #   #  #####   ### \n",
    "#      ##  #  #   #  ##  #  ##  ##            #    ##  #  ##     #   #\n",
    "####   #####  #####  #####  ######            #    # # #  ####   #   #\n",
    "#   #  ## #   #   #  ##     ##  ##            #    #  ##  ##     #   #\n",
    " ###   ##  #  #   #  ##     ##  ##          #####  #   #  ##      ### \n",
    "\n",
    "######################################################################\n",
    "print(\"Number of nodes:\\t\\t\",data.num_nodes)\n",
    "print(\"Number of edges:\\t\\t\",data.num_edges)\n",
    "print(\"Number of features per node:\\t\",data.num_features) #per nodes (Length of each feature vector)\n",
    "print(\"Number of weights per edge:\\t\",data.num_edge_features)"
   ]
  },
  {
   "cell_type": "code",
   "execution_count": 5,
   "id": "ceda9fe9-396b-4f4c-8053-5adabcc89b6a",
   "metadata": {},
   "outputs": [
    {
     "data": {
      "image/png": "[encoded data removed]",
      "text/plain": [
       "<Figure size 640x480 with 1 Axes>"
      ]
     },
     "metadata": {},
     "output_type": "display_data"
    }
   ],
   "source": [
    "#####  ##      ###   #####        #####  ##  ##  #####         ####  #####  #####  #####  ##  ##\n",
    "##  #  ##     #   #    #            #    ##  ##  ##           #      ##  #  #   #  ##  #  ##  ##\n",
    "#####  ##     #   #    #            #    ######  ####         ####   #####  #####  #####  ######\n",
    "##     ##     #   #    #            #    ##  ##  ##           #   #  ## #   #   #  ##     ##  ##\n",
    "##     #####   ###     #            #    ##  ##  #####         ###   ##  #  #   #  ##     ##  ##\n",
    "\n",
    "################################################################################################\n",
    "G = torch_geometric.utils.to_networkx(data) #to_undirected=True is optional\n",
    "nx.draw_networkx(G)\n",
    "# We can also use:  \"nx.draw(G)\""
   ]
  }
 ],
 "metadata": {
  "kernelspec": {
   "display_name": "Python 3 (ipykernel)",
   "language": "python",
   "name": "python3"
  },
  "language_info": {
   "codemirror_mode": {
    "name": "ipython",
    "version": 3
   },
   "file_extension": ".py",
   "mimetype": "text/x-python",
   "name": "python",
   "nbconvert_exporter": "python",
   "pygments_lexer": "ipython3",
   "version": "3.9.13"
  }
 },
 "nbformat": 4,
 "nbformat_minor": 5
}
